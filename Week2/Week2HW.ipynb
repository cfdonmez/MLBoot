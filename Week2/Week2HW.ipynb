{
 "cells": [
  {
   "cell_type": "code",
   "execution_count": 1,
   "id": "b75c54aa",
   "metadata": {},
   "outputs": [],
   "source": [
    "import numpy as np\n",
    "import pandas as pd\n"
   ]
  },
  {
   "cell_type": "code",
   "execution_count": 16,
   "id": "6f212042",
   "metadata": {},
   "outputs": [],
   "source": [
    "%matplotlib inline"
   ]
  },
  {
   "cell_type": "code",
   "execution_count": 15,
   "id": "b0b3d6aa",
   "metadata": {},
   "outputs": [],
   "source": [
    "import matplotlib.pyplot as plt\n",
    "import seaborn as sns\n"
   ]
  },
  {
   "cell_type": "code",
   "execution_count": 2,
   "metadata": {},
   "outputs": [],
   "source": [
    "url = 'https://raw.githubusercontent.com/alexeygrigorev/datasets/master/AB_NYC_2019.csv'"
   ]
  },
  {
   "cell_type": "markdown",
   "metadata": {},
   "source": [
    "above link belongs to mlzoomcamp "
   ]
  },
  {
   "cell_type": "code",
   "execution_count": 3,
   "metadata": {},
   "outputs": [],
   "source": [
    "df = pd.read_csv(url)"
   ]
  },
  {
   "cell_type": "code",
   "execution_count": 4,
   "metadata": {},
   "outputs": [],
   "source": [
    "df_back = df"
   ]
  },
  {
   "cell_type": "code",
   "execution_count": 23,
   "id": "77b9860a",
   "metadata": {},
   "outputs": [],
   "source": [
    "df = df_back"
   ]
  },
  {
   "cell_type": "code",
   "execution_count": 24,
   "id": "3ae54b84",
   "metadata": {},
   "outputs": [
    {
     "data": {
      "text/plain": [
       "Index(['id', 'name', 'host_id', 'host_name', 'neighbourhood_group',\n",
       "       'neighbourhood', 'latitude', 'longitude', 'room_type', 'price',\n",
       "       'minimum_nights', 'number_of_reviews', 'last_review',\n",
       "       'reviews_per_month', 'calculated_host_listings_count',\n",
       "       'availability_365'],\n",
       "      dtype='object')"
      ]
     },
     "execution_count": 24,
     "metadata": {},
     "output_type": "execute_result"
    }
   ],
   "source": [
    "df.columns"
   ]
  },
  {
   "cell_type": "code",
   "execution_count": 52,
   "metadata": {},
   "outputs": [],
   "source": [
    "selected_columns = ['latitude', 'longitude','minimum_nights', 'number_of_reviews','reviews_per_month','calculated_host_listings_count','availability_365' ]"
   ]
  },
  {
   "cell_type": "markdown",
   "id": "3943d9fe",
   "metadata": {},
   "source": [
    "### Question 1"
   ]
  },
  {
   "cell_type": "markdown",
   "id": "6e7de989",
   "metadata": {},
   "source": [
    "Find a feature with missing values. How many missing values does it have?"
   ]
  },
  {
   "cell_type": "markdown",
   "id": "ddaf15d6",
   "metadata": {},
   "source": [
    "### Answer 1"
   ]
  },
  {
   "cell_type": "code",
   "execution_count": 26,
   "metadata": {},
   "outputs": [
    {
     "data": {
      "text/plain": [
       "id                                    0\n",
       "name                                 16\n",
       "host_id                               0\n",
       "host_name                            21\n",
       "neighbourhood_group                   0\n",
       "neighbourhood                         0\n",
       "latitude                              0\n",
       "longitude                             0\n",
       "room_type                             0\n",
       "price                                 0\n",
       "minimum_nights                        0\n",
       "number_of_reviews                     0\n",
       "last_review                       10052\n",
       "reviews_per_month                 10052\n",
       "calculated_host_listings_count        0\n",
       "availability_365                      0\n",
       "dtype: int64"
      ]
     },
     "execution_count": 26,
     "metadata": {},
     "output_type": "execute_result"
    }
   ],
   "source": [
    "df.isnull().sum()"
   ]
  },
  {
   "cell_type": "markdown",
   "id": "3943d9fe",
   "metadata": {},
   "source": [
    "### Question 2"
   ]
  },
  {
   "cell_type": "markdown",
   "id": "6e7de989",
   "metadata": {},
   "source": [
    "What's the median (50% percentile) for variable 'minimum_nights'?"
   ]
  },
  {
   "cell_type": "markdown",
   "id": "ddaf15d6",
   "metadata": {},
   "source": [
    "### Answer 2"
   ]
  },
  {
   "cell_type": "code",
   "execution_count": 27,
   "metadata": {},
   "outputs": [
    {
     "name": "stdout",
     "output_type": "stream",
     "text": [
      "3.0\n"
     ]
    }
   ],
   "source": [
    "median_minnights = df['minimum_nights'].median()\n",
    "print(median_minnights)"
   ]
  },
  {
   "cell_type": "markdown",
   "id": "595ae6bc",
   "metadata": {},
   "source": [
    "### Split the data"
   ]
  },
  {
   "cell_type": "markdown",
   "id": "ddbacd82",
   "metadata": {},
   "source": [
    "<ul>\n",
    "<li>Shuffle the initial dataset, use seed 42.</li>\n",
    "<li>Split your data in train/val/test sets, with 60%/20%/20% distribution.</li>\n",
    "<li>Make sure that the target value ('price') is not in your dataframe.</li>\n",
    "<li>Apply the log transformation to the price variable using the np.log1p() function.</li>\n",
    "</ul>"
   ]
  },
  {
   "cell_type": "code",
   "execution_count": 28,
   "id": "41b78b0a",
   "metadata": {},
   "outputs": [],
   "source": [
    "from sklearn.model_selection import train_test_split"
   ]
  },
  {
   "cell_type": "code",
   "execution_count": 29,
   "id": "990bcf5c",
   "metadata": {},
   "outputs": [],
   "source": [
    "df_train_full, df_test = train_test_split(df, test_size=0.2, random_state=42)"
   ]
  },
  {
   "cell_type": "code",
   "execution_count": 30,
   "id": "e604c9b1",
   "metadata": {},
   "outputs": [],
   "source": [
    "df_train, df_val = train_test_split(df_train_full, test_size=0.33, random_state=42)"
   ]
  },
  {
   "cell_type": "code",
   "execution_count": 31,
   "id": "d058da4a",
   "metadata": {},
   "outputs": [],
   "source": [
    "y_train = np.log1p(df_train.price.values)\n",
    "y_val = np.log1p(df_val.price.values)\n",
    "y_test = np.log1p(df_test.price.values)"
   ]
  },
  {
   "cell_type": "code",
   "execution_count": 32,
   "id": "6c03f108",
   "metadata": {},
   "outputs": [],
   "source": [
    "del df_train['price']\n",
    "del df_val['price']\n",
    "del df_test\n",
    "['price']"
   ]
  },
  {
   "cell_type": "markdown",
   "id": "01844221",
   "metadata": {},
   "source": [
    "### Question 3"
   ]
  },
  {
   "cell_type": "markdown",
   "id": "96fb1ba6",
   "metadata": {},
   "source": [
    "<ul>\n",
    "<li>We need to deal with missing values for the column from Q1.</li>\n",
    "<li>We have two options: fill it with 0 or with the mean of this variable.</li>\n",
    "<li>Try both options. For each, train a linear regression model without regularization using the code from the lessons.</li>\n",
    "<li>For computing the mean, use the training only! </li>\n",
    "<li>Use the validation dataset to evaluate the models and compare the RMSE of each option.</li>\n",
    "<li>Round the RMSE scores to 2 decimal digits using round(score, 2)\n",
    "Which option gives better RMSE?</li>\n",
    "</ul>"
   ]
  },
  {
   "cell_type": "code",
   "execution_count": null,
   "id": "80f240d2",
   "metadata": {},
   "outputs": [],
   "source": [
    "df_train = df_train[selected_columns]"
   ]
  },
  {
   "cell_type": "code",
   "execution_count": 55,
   "id": "b1fd13d3",
   "metadata": {},
   "outputs": [],
   "source": [
    "df_val = df_val[selected_columns]"
   ]
  },
  {
   "cell_type": "code",
   "execution_count": 56,
   "id": "343182c5",
   "metadata": {},
   "outputs": [],
   "source": [
    "df_test = df_test[selected_columns]"
   ]
  },
  {
   "cell_type": "code",
   "execution_count": 61,
   "id": "3781e730",
   "metadata": {},
   "outputs": [],
   "source": [
    "\n",
    "def train_linear_regression(X,y):\n",
    "    ones = np.ones(X.shape[0])\n",
    "    X = np.column_stack([ones, X])\n",
    "#I'll explain it with picture\n",
    "    \n",
    "    XTX = X.T.dot(X)\n",
    "    XTX_inv = np.linalg.inv(XTX)\n",
    "    w = XTX_inv.dot(X.T).dot(y)\n",
    "\n",
    "    return w[0], w[1:]"
   ]
  },
  {
   "cell_type": "code",
   "execution_count": 87,
   "id": "22c243e3",
   "metadata": {},
   "outputs": [],
   "source": [
    "def prepare_X0(df):\n",
    "    df_num = df[selected_columns]\n",
    "    df_num = df_num.fillna(0)\n",
    "    X = df_num.values\n",
    "    return X"
   ]
  },
  {
   "cell_type": "code",
   "execution_count": 88,
   "id": "867401c6",
   "metadata": {},
   "outputs": [],
   "source": [
    "def rmse(y, y_pred):\n",
    "    error = y_pred - y\n",
    "    mse = (error ** 2).mean()\n",
    "    return np.sqrt(mse)"
   ]
  },
  {
   "cell_type": "markdown",
   "id": "405649ec",
   "metadata": {},
   "source": [
    "### Option 1 "
   ]
  },
  {
   "cell_type": "markdown",
   "id": "d9bccf5c",
   "metadata": {},
   "source": [
    "fill with 0"
   ]
  },
  {
   "cell_type": "code",
   "execution_count": 60,
   "id": "8d5319e9",
   "metadata": {},
   "outputs": [],
   "source": [
    "df_train_zero = df_train\n",
    "df_val_zero = df_val\n",
    "df_test_zero = df_test    "
   ]
  },
  {
   "cell_type": "code",
   "execution_count": 89,
   "id": "9796649d",
   "metadata": {},
   "outputs": [
    {
     "data": {
      "text/plain": [
       "0.65"
      ]
     },
     "execution_count": 89,
     "metadata": {},
     "output_type": "execute_result"
    }
   ],
   "source": [
    "X_train = prepare_X0(df_train_zero)\n",
    "w_0, w = train_linear_regression(X_train, y_train)\n",
    "y_pred = w_0 + X_train.dot(w)\n",
    "round(rmse(y_train, y_pred),2)"
   ]
  },
  {
   "cell_type": "code",
   "execution_count": 90,
   "id": "d6631aa4",
   "metadata": {},
   "outputs": [
    {
     "data": {
      "text/plain": [
       "0.64"
      ]
     },
     "execution_count": 90,
     "metadata": {},
     "output_type": "execute_result"
    }
   ],
   "source": [
    "X_val = prepare_X0(df_val_zero)\n",
    "y_pred = w_0 + X_val.dot(w)\n",
    "round(rmse(y_val,y_pred),2)"
   ]
  },
  {
   "cell_type": "code",
   "execution_count": 91,
   "id": "d6631aa4",
   "metadata": {},
   "outputs": [
    {
     "data": {
      "text/plain": [
       "0.64"
      ]
     },
     "execution_count": 91,
     "metadata": {},
     "output_type": "execute_result"
    }
   ],
   "source": [
    "X_test = prepare_X0(df_test_zero)\n",
    "y_pred = w_0 + X_test.dot(w)\n",
    "round(rmse(y_test,y_pred),2)"
   ]
  },
  {
   "cell_type": "markdown",
   "id": "0c68aead",
   "metadata": {},
   "source": [
    "### Option 2"
   ]
  },
  {
   "cell_type": "markdown",
   "id": "90cc9af3",
   "metadata": {},
   "source": [
    "fill with mean val"
   ]
  },
  {
   "cell_type": "code",
   "execution_count": 92,
   "id": "db5f826e",
   "metadata": {},
   "outputs": [],
   "source": [
    "mean = df_train.reviews_per_month.mean()"
   ]
  },
  {
   "cell_type": "code",
   "execution_count": 93,
   "id": "22c243e3",
   "metadata": {},
   "outputs": [],
   "source": [
    "def prepare_X(df,fillnav):\n",
    "    df_num = df[selected_columns]\n",
    "    df_num = df_num.fillna(fillnav)\n",
    "    X = df_num.values\n",
    "    return X"
   ]
  },
  {
   "cell_type": "code",
   "execution_count": 98,
   "id": "9796649d",
   "metadata": {},
   "outputs": [
    {
     "data": {
      "text/plain": [
       "0.65"
      ]
     },
     "execution_count": 98,
     "metadata": {},
     "output_type": "execute_result"
    }
   ],
   "source": [
    "X_train = prepare_X(df_train,0)\n",
    "w_0, w = train_linear_regression(X_train, y_train)\n",
    "y_pred = w_0 + X_train.dot(w)\n",
    "round(rmse(y_train, y_pred),2)"
   ]
  },
  {
   "cell_type": "code",
   "execution_count": 99,
   "id": "d6631aa4",
   "metadata": {},
   "outputs": [
    {
     "data": {
      "text/plain": [
       "0.64"
      ]
     },
     "execution_count": 99,
     "metadata": {},
     "output_type": "execute_result"
    }
   ],
   "source": [
    "X_val = prepare_X(df_val,0)\n",
    "y_pred = w_0 + X_val.dot(w)\n",
    "round(rmse(y_val,y_pred),2)"
   ]
  },
  {
   "cell_type": "code",
   "execution_count": 100,
   "id": "d6631aa4",
   "metadata": {},
   "outputs": [
    {
     "data": {
      "text/plain": [
       "0.64"
      ]
     },
     "execution_count": 100,
     "metadata": {},
     "output_type": "execute_result"
    }
   ],
   "source": [
    "X_test = prepare_X(df_test,0)\n",
    "y_pred = w_0 + X_test.dot(w)\n",
    "round(rmse(y_test,y_pred),2)"
   ]
  },
  {
   "cell_type": "markdown",
   "id": "75ab3ace",
   "metadata": {},
   "source": [
    "### Answer3\n"
   ]
  },
  {
   "cell_type": "markdown",
   "id": "5a11b716",
   "metadata": {},
   "source": [
    "Both Are equally good"
   ]
  },
  {
   "cell_type": "markdown",
   "id": "dd247d53",
   "metadata": {},
   "source": [
    "### Question 4\n"
   ]
  },
  {
   "cell_type": "markdown",
   "id": "8c6f118b",
   "metadata": {},
   "source": [
    "<ul>\n",
    "<li>Now let's train a regularized linear regression.</li>\n",
    "<li>For this question, fill the NAs with 0.</li>\n",
    "<li>Try different values of r from this list: [0, 0.000001, 0.0001, 0.001, 0.01, 0.1, 1, 5, 10]</li>\n",
    "<li>Use RMSE to evaluate the model on the validation dataset. </li>\n",
    "<li>Round the RMSE scores to 2 decimal digits.</li>\n",
    "<li>Which r gives the best RMSE?</li>\n",
    "</ul>\n",
    "If there are multiple opiton, select the smallest r."
   ]
  },
  {
   "cell_type": "code",
   "execution_count": 101,
   "id": "a6d1f6fa",
   "metadata": {},
   "outputs": [],
   "source": [
    "def train_linear_regression_reg(X, y, r=0.0):\n",
    "    ones = np.ones(X.shape[0])\n",
    "    X = np.column_stack([ones, X])\n",
    "\n",
    "    XTX = X.T.dot(X)\n",
    "    reg = r * np.eye(XTX.shape[0])\n",
    "    XTX = XTX + reg\n",
    "\n",
    "    XTX_inv = np.linalg.inv(XTX)\n",
    "    w = XTX_inv.dot(X.T).dot(y)\n",
    "    \n",
    "    return w[0], w[1:]"
   ]
  },
  {
   "cell_type": "code",
   "execution_count": 102,
   "id": "e564a69e",
   "metadata": {},
   "outputs": [
    {
     "name": "stdout",
     "output_type": "stream",
     "text": [
      "0 -424.995061414696 0.64\n",
      "1e-06 -424.9378445161687 0.64\n",
      "0.0001 -419.34862802056364 0.64\n",
      "0.001 -374.56122541558176 0.64\n",
      "0.01 -181.11999148803952 0.66\n",
      "0.1 -29.380106919441364 0.68\n",
      "1 -3.1316319087220275 0.68\n",
      "5 -0.6289083682586496 0.68\n",
      "10 -0.31401805183991943 0.68\n"
     ]
    }
   ],
   "source": [
    "for r in [0, 0.000001, 0.0001, 0.001, 0.01, 0.1, 1, 5, 10]:\n",
    "    w_0, w = train_linear_regression_reg(X_train, y_train, r=r)\n",
    "    y_null_reg_val = w_0 + X_val.dot(w)\n",
    "    rmse_val = np.round(rmse(y_val, y_null_reg_val),2)\n",
    "    print(r, w_0, rmse_val)"
   ]
  },
  {
   "cell_type": "markdown",
   "id": "cc3c788f",
   "metadata": {},
   "source": [
    "### Answer 4 = 0"
   ]
  },
  {
   "cell_type": "markdown",
   "id": "add090c3",
   "metadata": {},
   "source": [
    "### Question 5"
   ]
  },
  {
   "cell_type": "markdown",
   "id": "4f0eaa11",
   "metadata": {},
   "source": [
    "<ul>\n",
    "<li>We used seed 42 for splitting the data. Let's find out how selecting the seed influences our score</li>\n",
    "<li>Try different seed values: [0, 1, 2, 3, 4, 5, 6, 7, 8, 9].</li>\n",
    "<li>For each seed, do the train/validation/test split with 60%/20%/20% distribution.</li>\n",
    "<li>Fill the missing values with 0 and train a model without regularization. </li>\n",
    "<li>For each seed, evaluate the model on the validation dataset and collect the RMSE scores.</li>\n",
    "<li>What's the standard deviation of all the scores? To compute the standard deviation, use np.std.</li>\n",
    "</ul>\n",
    "\n",
    "Round the result to 3 decimal digits (round(std, 3))\n"
   ]
  },
  {
   "cell_type": "code",
   "execution_count": 103,
   "id": "77b9860a",
   "metadata": {},
   "outputs": [],
   "source": [
    "df = df_back"
   ]
  },
  {
   "cell_type": "code",
   "execution_count": 109,
   "id": "03614685",
   "metadata": {},
   "outputs": [],
   "source": [
    "def prepare_X(df):\n",
    "    df_num = df[selected_columns]\n",
    "    df_num = df_num.fillna(0)\n",
    "    X = df_num.values\n",
    "    return X"
   ]
  },
  {
   "cell_type": "code",
   "execution_count": 110,
   "id": "26769775",
   "metadata": {},
   "outputs": [],
   "source": [
    "def train_linear_regression(X,y):\n",
    "    ones = np.ones(X.shape[0])\n",
    "    X = np.column_stack([ones, X])\n",
    "    XTX = X.T.dot(X)\n",
    "    XTX_inv = np.linalg.inv(XTX)\n",
    "    w = XTX_inv.dot(X.T).dot(y)\n",
    "\n",
    "    return w[0], w[1:]\n",
    "    "
   ]
  },
  {
   "cell_type": "code",
   "execution_count": 111,
   "id": "867401c6",
   "metadata": {},
   "outputs": [],
   "source": [
    "def rmse(y, y_pred):\n",
    "    error = y_pred - y\n",
    "    mse = (error ** 2).mean()\n",
    "    return np.sqrt(mse)"
   ]
  },
  {
   "cell_type": "code",
   "execution_count": 119,
   "id": "990bcf5c",
   "metadata": {},
   "outputs": [],
   "source": [
    "def splitting(dataFra,randNum):\n",
    "    df_train_full, df_test = train_test_split(dataFra, test_size=0.2, random_state=randNum)\n",
    "    df_train, df_val = train_test_split(df_train_full, test_size=0.33, random_state=randNum)\n",
    "    y_train = np.log1p(df_train.price.values)\n",
    "    y_val = np.log1p(df_val.price.values)\n",
    "    del df_train['price']\n",
    "    del df_val['price']\n",
    "    del df_test['price']\n",
    "\n",
    "    X_train = prepare_X(df_train)\n",
    "    w_0, w = train_linear_regression(X_train, y_train)\n",
    "    X_val = prepare_X(df_val)\n",
    "    y_pred = w_0 + X_val.dot(w)\n",
    "    \n",
    "\n",
    "    return round(rmse(y_val,y_pred),3) \n"
   ]
  },
  {
   "cell_type": "code",
   "execution_count": 124,
   "id": "3bf6654d",
   "metadata": {},
   "outputs": [
    {
     "name": "stdout",
     "output_type": "stream",
     "text": [
      "0 -0.31401805183991943 0.641\n",
      "1 -0.31401805183991943 0.649\n",
      "2 -0.31401805183991943 0.642\n",
      "3 -0.31401805183991943 0.646\n",
      "4 -0.31401805183991943 0.641\n",
      "5 -0.31401805183991943 0.635\n",
      "6 -0.31401805183991943 0.648\n",
      "7 -0.31401805183991943 0.645\n",
      "8 -0.31401805183991943 0.644\n",
      "9 -0.31401805183991943 0.645\n"
     ]
    }
   ],
   "source": [
    "for randNum in [0, 1, 2, 3, 4, 5, 6, 7, 8, 9]:\n",
    "    print (randNum,w_0, splitting(df,randNum))\n",
    "    "
   ]
  },
  {
   "cell_type": "code",
   "execution_count": null,
   "id": "25f8ca35",
   "metadata": {},
   "outputs": [],
   "source": []
  }
 ],
 "metadata": {
  "interpreter": {
   "hash": "eba0e1542881f70f2bb81dce18357734008e1569a8e1b5278b507e15a9e0fe50"
  },
  "kernelspec": {
   "display_name": "Python 3.8.11 64-bit ('ml-zoomcamp': conda)",
   "name": "python3"
  },
  "language_info": {
   "codemirror_mode": {
    "name": "ipython",
    "version": 3
   },
   "file_extension": ".py",
   "mimetype": "text/x-python",
   "name": "python",
   "nbconvert_exporter": "python",
   "pygments_lexer": "ipython3",
   "version": "3.8.11"
  }
 },
 "nbformat": 4,
 "nbformat_minor": 5
}
