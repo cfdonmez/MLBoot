df = pd.read_csv(r'https://github.com/cfdonmez/mlbookcamp-code/blob/4acc84281fc64b31eac0e47e345bb1a5f409fe44/chapter-02-car-price/data.csv')
